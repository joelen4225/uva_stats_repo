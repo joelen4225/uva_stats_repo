{
 "cells": [
  {
   "cell_type": "markdown",
   "metadata": {},
   "source": [
    "# This is a Direct Copy from Nick Wan's Benchmark Solution"
   ]
  },
  {
   "cell_type": "code",
   "execution_count": 6,
   "metadata": {},
   "outputs": [],
   "source": [
    "import os\n",
    "import pandas as pd\n",
    "import numpy as np\n",
    "import catboost as cb\n",
    "from sklearn.metrics import roc_auc_score\n",
    "from sklearn.model_selection import KFold\n",
    "for dirname, _, filenames in os.walk(''):\n",
    "    for filename in filenames:\n",
    "        print(os.path.join(dirname, filename))"
   ]
  },
  {
   "cell_type": "code",
   "execution_count": 7,
   "metadata": {},
   "outputs": [],
   "source": [
    "df = pd.read_csv('train.csv')\n",
    "\n",
    "feats = [\n",
    "    'release_speed', 'release_pos_x', 'release_pos_z', 'balls',\n",
    "    'strikes', 'game_year', 'pfx_x', 'pfx_z', 'plate_x', 'plate_z',\n",
    "    'on_3b', 'on_2b', 'on_1b', 'outs_when_up', 'inning', 'vx0', 'vy0',\n",
    "    'vz0', 'ax', 'ay', 'az', 'sz_top', 'sz_bot', 'effective_speed',\n",
    "    'release_spin_rate', 'release_extension', 'release_pos_y',\n",
    "    'pitch_number', 'spin_axis', 'is_lhp', 'is_lhb', 'spray_angle'\n",
    "]\n",
    "\n",
    "target = 'outcome_code'"
   ]
  },
  {
   "cell_type": "code",
   "execution_count": 9,
   "metadata": {},
   "outputs": [],
   "source": [
    "folds = 3\n",
    "kf = KFold(folds, shuffle=True)\n",
    "outputs = pd.DataFrame()\n",
    "\n",
    "for train_idx, test_idx in kf.split(df):\n",
    "    train = df.iloc[train_idx]\n",
    "    test = df.iloc[test_idx]\n",
    "    model = cb.CatBoostClassifier(iterations=1000, verbose=False, loss_function='MultiClassOneVsAll', eval_metric='AUC')\n",
    "    model.fit(train.loc[:, feats], train[target])\n",
    "    _df = pd.DataFrame(model.predict_proba(test.loc[:, feats]), index=test.index)\n",
    "    outputs = pd.concat([outputs, _df])\n",
    "\n",
    "\n",
    "df = pd.concat([df, outputs], axis=1)\n",
    "df['e'] = df.loc[:, range(5)].sum(axis=1).sub(1)\n",
    "df[0] = df[0].sub(df['e'])"
   ]
  },
  {
   "cell_type": "code",
   "execution_count": 10,
   "metadata": {},
   "outputs": [
    {
     "data": {
      "text/html": [
       "<div>\n",
       "<style scoped>\n",
       "    .dataframe tbody tr th:only-of-type {\n",
       "        vertical-align: middle;\n",
       "    }\n",
       "\n",
       "    .dataframe tbody tr th {\n",
       "        vertical-align: top;\n",
       "    }\n",
       "\n",
       "    .dataframe thead th {\n",
       "        text-align: right;\n",
       "    }\n",
       "</style>\n",
       "<table border=\"1\" class=\"dataframe\">\n",
       "  <thead>\n",
       "    <tr style=\"text-align: right;\">\n",
       "      <th></th>\n",
       "      <th>uid</th>\n",
       "      <th>out</th>\n",
       "      <th>single</th>\n",
       "      <th>double</th>\n",
       "      <th>triple</th>\n",
       "      <th>home_run</th>\n",
       "    </tr>\n",
       "  </thead>\n",
       "  <tbody>\n",
       "    <tr>\n",
       "      <th>6123</th>\n",
       "      <td>8665</td>\n",
       "      <td>0.784698</td>\n",
       "      <td>0.176292</td>\n",
       "      <td>0.027150</td>\n",
       "      <td>0.004130</td>\n",
       "      <td>0.007731</td>\n",
       "    </tr>\n",
       "    <tr>\n",
       "      <th>34815</th>\n",
       "      <td>50952</td>\n",
       "      <td>0.678336</td>\n",
       "      <td>0.237613</td>\n",
       "      <td>0.050845</td>\n",
       "      <td>0.009978</td>\n",
       "      <td>0.023228</td>\n",
       "    </tr>\n",
       "    <tr>\n",
       "      <th>48771</th>\n",
       "      <td>70957</td>\n",
       "      <td>0.611803</td>\n",
       "      <td>0.213306</td>\n",
       "      <td>0.050672</td>\n",
       "      <td>0.006388</td>\n",
       "      <td>0.117831</td>\n",
       "    </tr>\n",
       "    <tr>\n",
       "      <th>24241</th>\n",
       "      <td>35167</td>\n",
       "      <td>0.650873</td>\n",
       "      <td>0.175320</td>\n",
       "      <td>0.054567</td>\n",
       "      <td>0.004294</td>\n",
       "      <td>0.114946</td>\n",
       "    </tr>\n",
       "    <tr>\n",
       "      <th>4439</th>\n",
       "      <td>6271</td>\n",
       "      <td>0.543482</td>\n",
       "      <td>0.252302</td>\n",
       "      <td>0.082158</td>\n",
       "      <td>0.016766</td>\n",
       "      <td>0.105293</td>\n",
       "    </tr>\n",
       "    <tr>\n",
       "      <th>4185</th>\n",
       "      <td>5917</td>\n",
       "      <td>0.766780</td>\n",
       "      <td>0.169683</td>\n",
       "      <td>0.036527</td>\n",
       "      <td>0.004888</td>\n",
       "      <td>0.022121</td>\n",
       "    </tr>\n",
       "    <tr>\n",
       "      <th>20454</th>\n",
       "      <td>29699</td>\n",
       "      <td>0.782824</td>\n",
       "      <td>0.160004</td>\n",
       "      <td>0.037997</td>\n",
       "      <td>0.002828</td>\n",
       "      <td>0.016347</td>\n",
       "    </tr>\n",
       "    <tr>\n",
       "      <th>6889</th>\n",
       "      <td>9953</td>\n",
       "      <td>0.668887</td>\n",
       "      <td>0.164266</td>\n",
       "      <td>0.065686</td>\n",
       "      <td>0.004118</td>\n",
       "      <td>0.097042</td>\n",
       "    </tr>\n",
       "    <tr>\n",
       "      <th>15185</th>\n",
       "      <td>21970</td>\n",
       "      <td>0.649563</td>\n",
       "      <td>0.230417</td>\n",
       "      <td>0.052857</td>\n",
       "      <td>0.014072</td>\n",
       "      <td>0.053091</td>\n",
       "    </tr>\n",
       "    <tr>\n",
       "      <th>3945</th>\n",
       "      <td>5583</td>\n",
       "      <td>0.666012</td>\n",
       "      <td>0.274355</td>\n",
       "      <td>0.039358</td>\n",
       "      <td>0.008090</td>\n",
       "      <td>0.012185</td>\n",
       "    </tr>\n",
       "  </tbody>\n",
       "</table>\n",
       "</div>"
      ],
      "text/plain": [
       "         uid       out    single    double    triple  home_run\n",
       "6123    8665  0.784698  0.176292  0.027150  0.004130  0.007731\n",
       "34815  50952  0.678336  0.237613  0.050845  0.009978  0.023228\n",
       "48771  70957  0.611803  0.213306  0.050672  0.006388  0.117831\n",
       "24241  35167  0.650873  0.175320  0.054567  0.004294  0.114946\n",
       "4439    6271  0.543482  0.252302  0.082158  0.016766  0.105293\n",
       "4185    5917  0.766780  0.169683  0.036527  0.004888  0.022121\n",
       "20454  29699  0.782824  0.160004  0.037997  0.002828  0.016347\n",
       "6889    9953  0.668887  0.164266  0.065686  0.004118  0.097042\n",
       "15185  21970  0.649563  0.230417  0.052857  0.014072  0.053091\n",
       "3945    5583  0.666012  0.274355  0.039358  0.008090  0.012185"
      ]
     },
     "execution_count": 10,
     "metadata": {},
     "output_type": "execute_result"
    }
   ],
   "source": [
    "df = df.rename(columns={0:'out',1:'single',2:'double',3:'triple',4:'home_run'})\n",
    "df.loc[:, ['uid','out','single','double','triple','home_run']].sample(10)"
   ]
  },
  {
   "cell_type": "code",
   "execution_count": 11,
   "metadata": {},
   "outputs": [
    {
     "data": {
      "text/plain": [
       "0.6945824975826527"
      ]
     },
     "execution_count": 11,
     "metadata": {},
     "output_type": "execute_result"
    }
   ],
   "source": [
    "roc_auc_score(df[target], df.loc[:, ['out','single','double','triple','home_run']], multi_class='ovr')"
   ]
  }
 ],
 "metadata": {
  "kernelspec": {
   "display_name": "Python 3",
   "language": "python",
   "name": "python3"
  },
  "language_info": {
   "codemirror_mode": {
    "name": "ipython",
    "version": 3
   },
   "file_extension": ".py",
   "mimetype": "text/x-python",
   "name": "python",
   "nbconvert_exporter": "python",
   "pygments_lexer": "ipython3",
   "version": "3.11.9"
  }
 },
 "nbformat": 4,
 "nbformat_minor": 2
}
